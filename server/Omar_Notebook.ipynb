{
 "cells": [
  {
   "cell_type": "markdown",
   "metadata": {},
   "source": [
    "1. Manipulation de données: Ajouter les colonnes annee (entre 2005 et 2024), balcon, garage,note,price_category avec l'année, balcon et garave en booléan, note de 1 à 5 et category: low, normal high,scam (appréciation humaine si c'est une arnaque, bas prix, prix normal ou élevé)."
   ]
  },
  {
   "cell_type": "code",
   "execution_count": 1,
   "metadata": {},
   "outputs": [
    {
     "data": {
      "text/html": [
       "<div>\n",
       "<style scoped>\n",
       "    .dataframe tbody tr th:only-of-type {\n",
       "        vertical-align: middle;\n",
       "    }\n",
       "\n",
       "    .dataframe tbody tr th {\n",
       "        vertical-align: top;\n",
       "    }\n",
       "\n",
       "    .dataframe thead th {\n",
       "        text-align: right;\n",
       "    }\n",
       "</style>\n",
       "<table border=\"1\" class=\"dataframe\">\n",
       "  <thead>\n",
       "    <tr style=\"text-align: right;\">\n",
       "      <th></th>\n",
       "      <th>nbRooms</th>\n",
       "      <th>surface</th>\n",
       "      <th>nbWindows</th>\n",
       "      <th>price</th>\n",
       "      <th>id</th>\n",
       "      <th>annee</th>\n",
       "      <th>balcon</th>\n",
       "      <th>garage</th>\n",
       "      <th>note</th>\n",
       "      <th>price_category</th>\n",
       "    </tr>\n",
       "  </thead>\n",
       "  <tbody>\n",
       "    <tr>\n",
       "      <th>0</th>\n",
       "      <td>4</td>\n",
       "      <td>10</td>\n",
       "      <td>3</td>\n",
       "      <td>100000</td>\n",
       "      <td>1</td>\n",
       "      <td>2011</td>\n",
       "      <td>True</td>\n",
       "      <td>True</td>\n",
       "      <td>2</td>\n",
       "      <td>scam</td>\n",
       "    </tr>\n",
       "    <tr>\n",
       "      <th>1</th>\n",
       "      <td>4</td>\n",
       "      <td>12</td>\n",
       "      <td>3</td>\n",
       "      <td>100000</td>\n",
       "      <td>2</td>\n",
       "      <td>2008</td>\n",
       "      <td>True</td>\n",
       "      <td>True</td>\n",
       "      <td>5</td>\n",
       "      <td>normal</td>\n",
       "    </tr>\n",
       "    <tr>\n",
       "      <th>2</th>\n",
       "      <td>4</td>\n",
       "      <td>15</td>\n",
       "      <td>3</td>\n",
       "      <td>100000</td>\n",
       "      <td>3</td>\n",
       "      <td>2019</td>\n",
       "      <td>True</td>\n",
       "      <td>False</td>\n",
       "      <td>1</td>\n",
       "      <td>low</td>\n",
       "    </tr>\n",
       "    <tr>\n",
       "      <th>3</th>\n",
       "      <td>4</td>\n",
       "      <td>15</td>\n",
       "      <td>2</td>\n",
       "      <td>100000</td>\n",
       "      <td>1725972975351</td>\n",
       "      <td>2012</td>\n",
       "      <td>False</td>\n",
       "      <td>False</td>\n",
       "      <td>2</td>\n",
       "      <td>scam</td>\n",
       "    </tr>\n",
       "    <tr>\n",
       "      <th>4</th>\n",
       "      <td>4</td>\n",
       "      <td>20</td>\n",
       "      <td>3</td>\n",
       "      <td>100000</td>\n",
       "      <td>1726214430072</td>\n",
       "      <td>2007</td>\n",
       "      <td>True</td>\n",
       "      <td>False</td>\n",
       "      <td>4</td>\n",
       "      <td>scam</td>\n",
       "    </tr>\n",
       "  </tbody>\n",
       "</table>\n",
       "</div>"
      ],
      "text/plain": [
       "   nbRooms  surface  nbWindows   price             id  annee  balcon  garage  \\\n",
       "0        4       10          3  100000              1   2011    True    True   \n",
       "1        4       12          3  100000              2   2008    True    True   \n",
       "2        4       15          3  100000              3   2019    True   False   \n",
       "3        4       15          2  100000  1725972975351   2012   False   False   \n",
       "4        4       20          3  100000  1726214430072   2007    True   False   \n",
       "\n",
       "   note price_category  \n",
       "0     2           scam  \n",
       "1     5         normal  \n",
       "2     1            low  \n",
       "3     2           scam  \n",
       "4     4           scam  "
      ]
     },
     "execution_count": 1,
     "metadata": {},
     "output_type": "execute_result"
    }
   ],
   "source": [
    "import pandas as pd\n",
    "import numpy as np\n",
    "import random\n",
    "\n",
    "df = pd.read_csv('appartements.csv')\n",
    "\n",
    "# Générer les nouvelles colonnes\n",
    "\n",
    "# Colonne 'annee' (entre 2005 et 2024)\n",
    "df['annee'] = np.random.randint(2005, 2025, df.shape[0])\n",
    "\n",
    "# Colonne 'balcon' (booléen aléatoire)\n",
    "df['balcon'] = np.random.choice([True, False], df.shape[0])\n",
    "\n",
    "# Colonne 'garage' (booléen aléatoire)\n",
    "df['garage'] = np.random.choice([True, False], df.shape[0])\n",
    "\n",
    "# Colonne 'note' (de 1 à 5)\n",
    "df['note'] = np.random.randint(1, 6, df.shape[0])\n",
    "\n",
    "# Colonne 'price_category' (low, normal, high, scam)\n",
    "def assign_price_category():\n",
    "    return random.choice(['low', 'normal', 'high', 'scam'])\n",
    "\n",
    "df['price_category'] = df.apply(lambda row: assign_price_category(), axis=1)\n",
    "\n",
    "# Affichage des premières lignes du dataframe avec les nouvelles colonnes\n",
    "df.head()\n"
   ]
  },
  {
   "cell_type": "markdown",
   "metadata": {},
   "source": [
    "2. Compléter votre dataset au plus vraissemblable. L'idée est d'en avoir entre 50 et 100."
   ]
  },
  {
   "cell_type": "code",
   "execution_count": 3,
   "metadata": {},
   "outputs": [],
   "source": [
    "import pandas as pd\n",
    "import numpy as np\n",
    "import random\n",
    "\n",
    "# Fonction pour générer un dataset d'appartements factices\n",
    "def generate_dataset(n_entries):\n",
    "\n",
    "    data = {\n",
    "        'id': range(1, n_entries + 1),\n",
    "        'nbRooms': np.random.randint(1, 6, n_entries),\n",
    "        'surface': np.random.randint(20, 150, n_entries),\n",
    "        'nbWindows': np.random.randint(1, 10, n_entries),  \n",
    "        'annee': np.random.randint(2005, 2025, n_entries),  \n",
    "        'balcon': np.random.choice([True, False], n_entries),  \n",
    "        'garage': np.random.choice([True, False], n_entries),  \n",
    "        'note': np.random.randint(1, 6, n_entries), \n",
    "    }\n",
    "\n",
    "    # Fonction pour assigner une catégorie de prix\n",
    "    def assign_price_category():\n",
    "        return random.choice(['bas prix', 'prix normal', 'élevé', 'arnaque'])\n",
    "\n",
    "    # Ajout de la colonne 'price_category'\n",
    "    data['price_category'] = [assign_price_category() for _ in range(n_entries)]\n",
    "\n",
    "    # Création d'un DataFrame avec les données générées\n",
    "    df = pd.DataFrame(data)\n",
    "\n",
    "    return df\n",
    "\n",
    "# Génération du dataset avec un nombre aléatoire entre 50 et 100\n",
    "n_entries = random.randint(50, 100)\n",
    "df = generate_dataset(n_entries)\n",
    "\n",
    "# Affichage du dataset généré\n",
    "df.head()\n",
    "\n",
    "# Sauvegarder le dataset dans un fichier CSV\n",
    "df.to_csv('appartements.csv', index=False)\n"
   ]
  },
  {
   "cell_type": "markdown",
   "metadata": {},
   "source": [
    "3. Avec Numpy et Pandas:"
   ]
  },
  {
   "cell_type": "code",
   "execution_count": 12,
   "metadata": {},
   "outputs": [],
   "source": [
    "import numpy as np\n",
    "import pandas as pd\n",
    "import matplotlib.pyplot as plt\n",
    "import seaborn as sns"
   ]
  },
  {
   "cell_type": "code",
   "execution_count": 4,
   "metadata": {},
   "outputs": [],
   "source": [
    "# Charger le dataset à partir d'un fichier CSV\n",
    "df = pd.read_csv('appartements.csv')\n"
   ]
  },
  {
   "cell_type": "markdown",
   "metadata": {},
   "source": [
    "- Sur la surface: Moyenne, écart-type, surface minimale et maximale."
   ]
  },
  {
   "cell_type": "code",
   "execution_count": 5,
   "metadata": {},
   "outputs": [
    {
     "name": "stdout",
     "output_type": "stream",
     "text": [
      "Moyenne de la surface: 82.47 m²\n",
      "Écart-type de la surface: 38.12 m²\n",
      "Surface minimale: 21 m², Surface maximale: 149 m²\n"
     ]
    }
   ],
   "source": [
    "# Moyenne\n",
    "surface_mean = df['surface'].mean()\n",
    "\n",
    "# Écart-type\n",
    "surface_std = df['surface'].std()\n",
    "\n",
    "# Surface minimale et maximale\n",
    "surface_min = df['surface'].min()\n",
    "surface_max = df['surface'].max()\n",
    "\n",
    "print(f\"Moyenne de la surface: {surface_mean:.2f} m²\")\n",
    "print(f\"Écart-type de la surface: {surface_std:.2f} m²\")\n",
    "print(f\"Surface minimale: {surface_min} m², Surface maximale: {surface_max} m²\")\n"
   ]
  },
  {
   "cell_type": "markdown",
   "metadata": {},
   "source": [
    "- Sur l'anne: Moyenne, construction la plus ancienne, la plus récente."
   ]
  },
  {
   "cell_type": "code",
   "execution_count": 6,
   "metadata": {},
   "outputs": [
    {
     "name": "stdout",
     "output_type": "stream",
     "text": [
      "Moyenne de l'année de construction: 2014.28\n",
      "Construction la plus ancienne: 2005, la plus récente: 2024\n"
     ]
    }
   ],
   "source": [
    "# Moyenne\n",
    "annee_mean = df['annee'].mean()\n",
    "\n",
    "# Construction la plus ancienne et la plus récente\n",
    "annee_min = df['annee'].min()\n",
    "annee_max = df['annee'].max()\n",
    "\n",
    "print(f\"Moyenne de l'année de construction: {annee_mean:.2f}\")\n",
    "print(f\"Construction la plus ancienne: {annee_min}, la plus récente: {annee_max}\")\n"
   ]
  },
  {
   "cell_type": "markdown",
   "metadata": {},
   "source": [
    "- Sur le bacon: Proportion d'appartements avec un balcon."
   ]
  },
  {
   "cell_type": "code",
   "execution_count": 7,
   "metadata": {},
   "outputs": [
    {
     "name": "stdout",
     "output_type": "stream",
     "text": [
      "Proportion d'appartements avec un balcon: 49.37%\n"
     ]
    }
   ],
   "source": [
    "# Proportion d'appartements avec balcon\n",
    "balcon_proportion = df['balcon'].mean() * 100\n",
    "\n",
    "print(f\"Proportion d'appartements avec un balcon: {balcon_proportion:.2f}%\")\n"
   ]
  },
  {
   "cell_type": "markdown",
   "metadata": {},
   "source": [
    "- Comptage du nombre d'appartements dans chaque catégorie de prix (low, normal, high, scam)."
   ]
  },
  {
   "cell_type": "code",
   "execution_count": 8,
   "metadata": {},
   "outputs": [
    {
     "name": "stdout",
     "output_type": "stream",
     "text": [
      "Répartition des catégories de prix :\n",
      "price_category\n",
      "arnaque        25\n",
      "prix normal    21\n",
      "élevé          21\n",
      "bas prix       12\n",
      "Name: count, dtype: int64\n"
     ]
    }
   ],
   "source": [
    "# Comptage des catégories de prix\n",
    "price_category_counts = df['price_category'].value_counts()\n",
    "\n",
    "print(\"Répartition des catégories de prix :\")\n",
    "print(price_category_counts)\n"
   ]
  },
  {
   "cell_type": "markdown",
   "metadata": {},
   "source": [
    "- Nombre de chambres (nbRooms): Moyenne, médiane, variance, écart-type."
   ]
  },
  {
   "cell_type": "code",
   "execution_count": 9,
   "metadata": {},
   "outputs": [
    {
     "name": "stdout",
     "output_type": "stream",
     "text": [
      "Moyenne du nombre de chambres: 3.01\n",
      "Médiane du nombre de chambres: 3.0\n",
      "Variance du nombre de chambres: 2.17\n",
      "Écart-type du nombre de chambres: 1.47\n"
     ]
    }
   ],
   "source": [
    "# Moyenne\n",
    "rooms_mean = df['nbRooms'].mean()\n",
    "\n",
    "# Médiane\n",
    "rooms_median = df['nbRooms'].median()\n",
    "\n",
    "# Variance\n",
    "rooms_variance = df['nbRooms'].var()\n",
    "\n",
    "# Écart-type\n",
    "rooms_std = df['nbRooms'].std()\n",
    "\n",
    "print(f\"Moyenne du nombre de chambres: {rooms_mean:.2f}\")\n",
    "print(f\"Médiane du nombre de chambres: {rooms_median}\")\n",
    "print(f\"Variance du nombre de chambres: {rooms_variance:.2f}\")\n",
    "print(f\"Écart-type du nombre de chambres: {rooms_std:.2f}\")\n"
   ]
  },
  {
   "cell_type": "markdown",
   "metadata": {},
   "source": [
    "Avec Matplop:\n",
    "Créer un Diagramme à barres pour afficher la répartition des catégories de prix (par exemple, combien d'appartements sont \"low\", \"normal\", \"high\", \"scam\")."
   ]
  },
  {
   "cell_type": "code",
   "execution_count": 13,
   "metadata": {},
   "outputs": [
    {
     "data": {
      "image/png": "[encoded data removed]",
      "text/plain": [
       "<Figure size 640x480 with 1 Axes>"
      ]
     },
     "metadata": {},
     "output_type": "display_data"
    }
   ],
   "source": [
    "# Créer un diagramme à barres pour afficher la répartition des catégories de prix\n",
    "price_category_counts.plot(kind='bar', color=['blue', 'green', 'orange', 'red'])\n",
    "\n",
    "plt.title(\"Répartition des catégories de prix\")\n",
    "plt.xlabel(\"Catégories de prix\")\n",
    "plt.ylabel(\"Nombre d'appartements\")\n",
    "plt.xticks(rotation=0)  # Rotation des étiquettes des catégories\n",
    "plt.show()\n"
   ]
  },
  {
   "cell_type": "markdown",
   "metadata": {},
   "source": [
    "Bonus: Créer un Heatmap pour voir la correlation entre Année de construction et prix afin de voir si les appartements plus récents ont tendance à être plus chers."
   ]
  },
  {
   "cell_type": "code",
   "execution_count": 17,
   "metadata": {},
   "outputs": [
    {
     "data": {
      "image/png": "[encoded data removed]",
      "text/plain": [
       "<Figure size 800x600 with 2 Axes>"
      ]
     },
     "metadata": {},
     "output_type": "display_data"
    }
   ],
   "source": [
    "# Encodage des catégories de prix en valeurs numériques\n",
    "price_mapping = {'bas prix': 1, 'prix normal': 2, 'élevé': 3, 'arnaque': 4}\n",
    "df['price_category_encoded'] = df['price_category'].map(price_mapping)\n",
    "\n",
    "# Créer une Heatmap pour voir la corrélation entre l'année de construction et le prix\n",
    "plt.figure(figsize=(8, 6))\n",
    "corr = df[['annee', 'price_category_encoded']].corr()\n",
    "sns.heatmap(corr, annot=True, cmap=\"coolwarm\", linewidths=0.5)\n",
    "\n",
    "plt.title(\"Corrélation entre l'année de construction et la catégorie de prix\")\n",
    "plt.show()\n"
   ]
  },
  {
   "cell_type": "markdown",
   "metadata": {},
   "source": [
    "BONUS"
   ]
  },
  {
   "cell_type": "code",
   "execution_count": 18,
   "metadata": {},
   "outputs": [
    {
     "data": {
      "image/png": "[encoded data removed]",
      "text/plain": [
       "<Figure size 1000x800 with 2 Axes>"
      ]
     },
     "metadata": {},
     "output_type": "display_data"
    }
   ],
   "source": [
    "# Heatmap avec plus de variables\n",
    "plt.figure(figsize=(10, 8))\n",
    "corr = df[['annee', 'nbRooms', 'surface', 'price_category_encoded']].corr()\n",
    "sns.heatmap(corr, annot=True, cmap=\"coolwarm\", linewidths=0.5)\n",
    "\n",
    "plt.title(\"Heatmap de corrélation entre plusieurs variables\")\n",
    "plt.show()\n"
   ]
  },
  {
   "cell_type": "markdown",
   "metadata": {},
   "source": [
    "-------------------------------------------------------------------------"
   ]
  },
  {
   "cell_type": "markdown",
   "metadata": {},
   "source": [
    "1. Compléter avec une nouvelle colonne ville dans votre dataset si l'appartement est de Lyon, Paris ou Marseille "
   ]
  },
  {
   "cell_type": "code",
   "execution_count": 20,
   "metadata": {},
   "outputs": [
    {
     "data": {
      "text/html": [
       "<div>\n",
       "<style scoped>\n",
       "    .dataframe tbody tr th:only-of-type {\n",
       "        vertical-align: middle;\n",
       "    }\n",
       "\n",
       "    .dataframe tbody tr th {\n",
       "        vertical-align: top;\n",
       "    }\n",
       "\n",
       "    .dataframe thead th {\n",
       "        text-align: right;\n",
       "    }\n",
       "</style>\n",
       "<table border=\"1\" class=\"dataframe\">\n",
       "  <thead>\n",
       "    <tr style=\"text-align: right;\">\n",
       "      <th></th>\n",
       "      <th>id</th>\n",
       "      <th>nbRooms</th>\n",
       "      <th>surface</th>\n",
       "      <th>nbWindows</th>\n",
       "      <th>annee</th>\n",
       "      <th>balcon</th>\n",
       "      <th>garage</th>\n",
       "      <th>note</th>\n",
       "      <th>price_category</th>\n",
       "      <th>ville</th>\n",
       "    </tr>\n",
       "  </thead>\n",
       "  <tbody>\n",
       "    <tr>\n",
       "      <th>0</th>\n",
       "      <td>1</td>\n",
       "      <td>3</td>\n",
       "      <td>42</td>\n",
       "      <td>6</td>\n",
       "      <td>2012</td>\n",
       "      <td>False</td>\n",
       "      <td>True</td>\n",
       "      <td>4</td>\n",
       "      <td>prix normal</td>\n",
       "      <td>Paris</td>\n",
       "    </tr>\n",
       "    <tr>\n",
       "      <th>1</th>\n",
       "      <td>2</td>\n",
       "      <td>1</td>\n",
       "      <td>69</td>\n",
       "      <td>4</td>\n",
       "      <td>2020</td>\n",
       "      <td>True</td>\n",
       "      <td>True</td>\n",
       "      <td>2</td>\n",
       "      <td>prix normal</td>\n",
       "      <td>Paris</td>\n",
       "    </tr>\n",
       "    <tr>\n",
       "      <th>2</th>\n",
       "      <td>3</td>\n",
       "      <td>5</td>\n",
       "      <td>97</td>\n",
       "      <td>3</td>\n",
       "      <td>2009</td>\n",
       "      <td>True</td>\n",
       "      <td>False</td>\n",
       "      <td>4</td>\n",
       "      <td>arnaque</td>\n",
       "      <td>Paris</td>\n",
       "    </tr>\n",
       "    <tr>\n",
       "      <th>3</th>\n",
       "      <td>4</td>\n",
       "      <td>3</td>\n",
       "      <td>125</td>\n",
       "      <td>5</td>\n",
       "      <td>2019</td>\n",
       "      <td>True</td>\n",
       "      <td>True</td>\n",
       "      <td>3</td>\n",
       "      <td>élevé</td>\n",
       "      <td>Marseille</td>\n",
       "    </tr>\n",
       "    <tr>\n",
       "      <th>4</th>\n",
       "      <td>5</td>\n",
       "      <td>1</td>\n",
       "      <td>121</td>\n",
       "      <td>9</td>\n",
       "      <td>2021</td>\n",
       "      <td>True</td>\n",
       "      <td>True</td>\n",
       "      <td>2</td>\n",
       "      <td>arnaque</td>\n",
       "      <td>Paris</td>\n",
       "    </tr>\n",
       "  </tbody>\n",
       "</table>\n",
       "</div>"
      ],
      "text/plain": [
       "   id  nbRooms  surface  nbWindows  annee  balcon  garage  note  \\\n",
       "0   1        3       42          6   2012   False    True     4   \n",
       "1   2        1       69          4   2020    True    True     2   \n",
       "2   3        5       97          3   2009    True   False     4   \n",
       "3   4        3      125          5   2019    True    True     3   \n",
       "4   5        1      121          9   2021    True    True     2   \n",
       "\n",
       "  price_category      ville  \n",
       "0    prix normal      Paris  \n",
       "1    prix normal      Paris  \n",
       "2        arnaque      Paris  \n",
       "3          élevé  Marseille  \n",
       "4        arnaque      Paris  "
      ]
     },
     "execution_count": 20,
     "metadata": {},
     "output_type": "execute_result"
    }
   ],
   "source": [
    "import pandas as pd\n",
    "import numpy as np\n",
    "\n",
    "# Charger le dataset existant\n",
    "df = pd.read_csv('appartements.csv')\n",
    "\n",
    "# Fonction pour attribuer une ville aléatoire parmi Lyon, Paris, Marseille\n",
    "def assign_ville():\n",
    "    return np.random.choice(['Lyon', 'Paris', 'Marseille'])\n",
    "\n",
    "# Ajouter la colonne 'ville' au DataFrame\n",
    "df['ville'] = df.apply(lambda row: assign_ville(), axis=1)\n",
    "\n",
    "# Sauvegarder le DataFrame mis à jour dans un fichier CSV\n",
    "df.to_csv('appartements.csv', index=False)\n",
    "\n",
    "# Afficher les premières lignes du DataFrame mis à jour\n",
    "df.head()\n"
   ]
  },
  {
   "cell_type": "markdown",
   "metadata": {},
   "source": [
    "2. Créer une prédiction par regression linéaire sur la note en fonction de la ville, de la surface et du prix"
   ]
  },
  {
   "cell_type": "code",
   "execution_count": 22,
   "metadata": {},
   "outputs": [
    {
     "name": "stdout",
     "output_type": "stream",
     "text": [
      "Erreur quadratique moyenne (MSE) : 2.04\n",
      "Coefficient de détermination (R²) : -0.17\n",
      "Coefficients du modèle :\n",
      "Ville (encodée) : 0.07\n",
      "Surface : 0.01\n",
      "Catégorie de prix (encodée) : 0.12\n",
      "Intercept : 2.11\n"
     ]
    }
   ],
   "source": [
    "from sklearn.model_selection import train_test_split\n",
    "from sklearn.linear_model import LinearRegression\n",
    "from sklearn.metrics import mean_squared_error, r2_score\n",
    "from sklearn.preprocessing import LabelEncoder\n",
    "\n",
    "# Charger le dataset mis à jour\n",
    "df = pd.read_csv('appartements.csv')\n",
    "\n",
    "# Prétraitement des données\n",
    "# Encodage des variables catégorielles\n",
    "label_encoder = LabelEncoder()\n",
    "df['ville_encoded'] = label_encoder.fit_transform(df['ville'])\n",
    "\n",
    "label_encoder_price = LabelEncoder()\n",
    "df['price_category_encoded'] = label_encoder_price.fit_transform(df['price_category'])\n",
    "\n",
    "# Préparer les variables indépendantes (features) et la variable dépendante (target)\n",
    "X = df[['ville_encoded', 'surface', 'price_category_encoded']]\n",
    "y = df['note']\n",
    "\n",
    "# Diviser les données en ensembles d'entraînement et de test\n",
    "X_train, X_test, y_train, y_test = train_test_split(X, y, test_size=0.2, random_state=42)\n",
    "\n",
    "# Créer et entraîner le modèle de régression linéaire\n",
    "model = LinearRegression()\n",
    "model.fit(X_train, y_train)\n",
    "\n",
    "# Faire des prédictions\n",
    "y_pred = model.predict(X_test)\n",
    "\n",
    "# Évaluer le modèle\n",
    "mse = mean_squared_error(y_test, y_pred)\n",
    "r2 = r2_score(y_test, y_pred)\n",
    "\n",
    "print(f\"Erreur quadratique moyenne (MSE) : {mse:.2f}\")\n",
    "print(f\"Coefficient de détermination (R²) : {r2:.2f}\")\n",
    "\n",
    "# Afficher les coefficients du modèle\n",
    "print(\"Coefficients du modèle :\")\n",
    "print(f\"Ville (encodée) : {model.coef_[0]:.2f}\")\n",
    "print(f\"Surface : {model.coef_[1]:.2f}\")\n",
    "print(f\"Catégorie de prix (encodée) : {model.coef_[2]:.2f}\")\n",
    "\n",
    "# Afficher l'intercept du modèle\n",
    "print(f\"Intercept : {model.intercept_:.2f}\")\n"
   ]
  },
  {
   "cell_type": "markdown",
   "metadata": {},
   "source": [
    "3. Créer une prédiction par regression linéaire sur l'année en fonction de la ville puis donnéer sa propabilité (R2) et son taux d'erreur en année (RSME ou MSE)"
   ]
  },
  {
   "cell_type": "code",
   "execution_count": 24,
   "metadata": {},
   "outputs": [
    {
     "name": "stdout",
     "output_type": "stream",
     "text": [
      "Erreur quadratique moyenne (MSE) : 34.09\n",
      "Racine de l'erreur quadratique moyenne (RMSE) : 5.84\n",
      "Coefficient de détermination (R²) : 0.01\n",
      "Coefficient du modèle :\n",
      "Ville (encodée) : -0.16\n",
      "Intercept : 2014.39\n"
     ]
    }
   ],
   "source": [
    "# Préparer les variables indépendantes (features) et la variable dépendante (target)\n",
    "X = df[['ville_encoded']]\n",
    "y = df['annee']\n",
    "\n",
    "# Diviser les données en ensembles d'entraînement et de test\n",
    "X_train, X_test, y_train, y_test = train_test_split(X, y, test_size=0.2, random_state=42)\n",
    "\n",
    "# Créer et entraîner le modèle de régression linéaire\n",
    "model = LinearRegression()\n",
    "model.fit(X_train, y_train)\n",
    "\n",
    "# Faire des prédictions\n",
    "y_pred = model.predict(X_test)\n",
    "\n",
    "# Évaluer le modèle\n",
    "mse = mean_squared_error(y_test, y_pred)\n",
    "rmse = np.sqrt(mse)  # Calculer la racine carrée de MSE pour obtenir RMSE\n",
    "r2 = r2_score(y_test, y_pred)\n",
    "\n",
    "print(f\"Erreur quadratique moyenne (MSE) : {mse:.2f}\")\n",
    "print(f\"Racine de l'erreur quadratique moyenne (RMSE) : {rmse:.2f}\")\n",
    "print(f\"Coefficient de détermination (R²) : {r2:.2f}\")\n",
    "\n",
    "# Afficher les coefficients du modèle\n",
    "print(\"Coefficient du modèle :\")\n",
    "print(f\"Ville (encodée) : {model.coef_[0]:.2f}\")\n",
    "\n",
    "# Afficher l'intercept du modèle\n",
    "print(f\"Intercept : {model.intercept_:.2f}\")\n"
   ]
  },
  {
   "cell_type": "markdown",
   "metadata": {},
   "source": [
    "4. Créer une classification logistique pour savoir si il y a un garage en fonction du prix et de la ville"
   ]
  },
  {
   "cell_type": "code",
   "execution_count": 5,
   "metadata": {},
   "outputs": [
    {
     "name": "stdout",
     "output_type": "stream",
     "text": [
      "Précision (accuracy) : 0.50\n",
      "[[3 3]\n",
      " [5 5]]\n",
      "              precision    recall  f1-score   support\n",
      "\n",
      "       False       0.38      0.50      0.43         6\n",
      "        True       0.62      0.50      0.56        10\n",
      "\n",
      "    accuracy                           0.50        16\n",
      "   macro avg       0.50      0.50      0.49        16\n",
      "weighted avg       0.53      0.50      0.51        16\n",
      "\n"
     ]
    }
   ],
   "source": [
    "from sklearn.model_selection import train_test_split\n",
    "from sklearn.linear_model import LogisticRegression\n",
    "from sklearn.preprocessing import LabelEncoder\n",
    "from sklearn.metrics import accuracy_score, confusion_matrix, classification_report\n",
    "\n",
    "# Charger les données\n",
    "df = pd.read_csv('appartements.csv')\n",
    "\n",
    "# Encodage des variables catégorielles (ville et price_category)\n",
    "label_encoder_ville = LabelEncoder()\n",
    "df['ville_encoded'] = label_encoder_ville.fit_transform(df['ville'])\n",
    "\n",
    "label_encoder_price = LabelEncoder()\n",
    "df['price_category_encoded'] = label_encoder_price.fit_transform(df['price_category'])\n",
    "\n",
    "# Sélectionner les features (prix et ville) et la target (garage)\n",
    "X = df[['price_category_encoded', 'ville_encoded']]\n",
    "y = df['garage']  # Variable à prédire (garage)\n",
    "\n",
    "# Diviser les données en ensembles d'entraînement et de test\n",
    "X_train, X_test, y_train, y_test = train_test_split(X, y, test_size=0.2, random_state=42)\n",
    "\n",
    "# Créer et entraîner le modèle de régression logistique\n",
    "logistic_model = LogisticRegression()\n",
    "logistic_model.fit(X_train, y_train)\n",
    "\n",
    "# Faire des prédictions sur l'ensemble de test\n",
    "y_pred = logistic_model.predict(X_test)\n",
    "\n",
    "# Évaluer les performances du modèle\n",
    "accuracy = accuracy_score(y_test, y_pred)\n",
    "print(f\"Précision (accuracy) : {accuracy:.2f}\")\n",
    "print(confusion_matrix(y_test, y_pred))\n",
    "print(classification_report(y_test, y_pred))\n"
   ]
  },
  {
   "cell_type": "code",
   "execution_count": 4,
   "metadata": {},
   "outputs": [
    {
     "data": {
      "image/png": "[encoded data removed]",
      "text/plain": [
       "<Figure size 1000x600 with 1 Axes>"
      ]
     },
     "metadata": {},
     "output_type": "display_data"
    }
   ],
   "source": [
    "# Créer une figure pour la visualisation\n",
    "plt.figure(figsize=(10, 6))\n",
    "\n",
    "# Prédire les probabilités avec le modèle de régression logistique\n",
    "probas = logistic_model.predict_proba(X_test)[:, 1]\n",
    "\n",
    "# Tracer la diagonale de séparation\n",
    "plt.plot([0, 1], [0, 1], 'k--', label='Diagonale', lw=2)\n",
    "\n",
    "# Scatter plot des probabilités prédites (valeurs entre 0 et 1) et la vraie étiquette\n",
    "sns.scatterplot(x=probas, y=y_test, hue=y_pred, palette='coolwarm', s=100)\n",
    "\n",
    "# Configurations du graphique\n",
    "plt.title('Classification Logistique : Prédiction du garage en fonction du prix et de la ville')\n",
    "plt.xlabel('Probabilité prédite pour avoir un garage')\n",
    "plt.ylabel('Vraie étiquette (0 = Pas de garage, 1 = Garage)')\n",
    "plt.legend()\n",
    "plt.grid(True)\n",
    "plt.show()"
   ]
  },
  {
   "cell_type": "markdown",
   "metadata": {},
   "source": [
    "5. Créer une classification par KNN pour savoir si il a un balcon en fonction du prix et de la ville"
   ]
  },
  {
   "cell_type": "code",
   "execution_count": 28,
   "metadata": {},
   "outputs": [
    {
     "name": "stdout",
     "output_type": "stream",
     "text": [
      "Précision (accuracy) : 0.56\n",
      "Matrice de confusion :\n",
      "[[7 3]\n",
      " [4 2]]\n",
      "Rapport de classification :\n",
      "              precision    recall  f1-score   support\n",
      "\n",
      "       False       0.64      0.70      0.67        10\n",
      "        True       0.40      0.33      0.36         6\n",
      "\n",
      "    accuracy                           0.56        16\n",
      "   macro avg       0.52      0.52      0.52        16\n",
      "weighted avg       0.55      0.56      0.55        16\n",
      "\n"
     ]
    }
   ],
   "source": [
    "from sklearn.neighbors import KNeighborsClassifier\n",
    "# Préparer les variables indépendantes (features) et la variable dépendante (target)\n",
    "X = df[['price_category_encoded', 'ville_encoded']]\n",
    "y = df['balcon']  # Variable à prédire (balcon)\n",
    "\n",
    "# Diviser les données en ensembles d'entraînement et de test\n",
    "X_train, X_test, y_train, y_test = train_test_split(X, y, test_size=0.2, random_state=42)\n",
    "\n",
    "# Créer et entraîner le modèle KNN\n",
    "k = 5  # Nombre de voisins\n",
    "model = KNeighborsClassifier(n_neighbors=k)\n",
    "model.fit(X_train, y_train)\n",
    "\n",
    "# Faire des prédictions\n",
    "y_pred = model.predict(X_test)\n",
    "\n",
    "# Évaluer le modèle\n",
    "accuracy = accuracy_score(y_test, y_pred)\n",
    "conf_matrix = confusion_matrix(y_test, y_pred)\n",
    "class_report = classification_report(y_test, y_pred)\n",
    "\n",
    "print(f\"Précision (accuracy) : {accuracy:.2f}\")\n",
    "print(\"Matrice de confusion :\")\n",
    "print(conf_matrix)\n",
    "print(\"Rapport de classification :\")\n",
    "print(class_report)"
   ]
  },
  {
   "cell_type": "markdown",
   "metadata": {},
   "source": [
    "6. Pour les 2 classific ation précédente: afficher le accuracy, recall puis F1 Score"
   ]
  },
  {
   "cell_type": "code",
   "execution_count": 29,
   "metadata": {},
   "outputs": [
    {
     "name": "stdout",
     "output_type": "stream",
     "text": [
      "Précision (accuracy) : 0.50\n",
      "Rappel (recall) : 0.50\n",
      "Score F1 : 0.56\n",
      "Matrice de confusion :\n",
      "[[3 3]\n",
      " [5 5]]\n",
      "Rapport de classification :\n",
      "              precision    recall  f1-score   support\n",
      "\n",
      "       False       0.38      0.50      0.43         6\n",
      "        True       0.62      0.50      0.56        10\n",
      "\n",
      "    accuracy                           0.50        16\n",
      "   macro avg       0.50      0.50      0.49        16\n",
      "weighted avg       0.53      0.50      0.51        16\n",
      "\n"
     ]
    }
   ],
   "source": [
    "from sklearn.metrics import accuracy_score, recall_score, f1_score, confusion_matrix, classification_report\n",
    "\n",
    "X = df[['price_category_encoded', 'ville_encoded']]\n",
    "y = df['garage']  # Variable à prédire (garage)\n",
    "\n",
    "# Diviser les données\n",
    "X_train, X_test, y_train, y_test = train_test_split(X, y, test_size=0.2, random_state=42)\n",
    "\n",
    "# Créer et entraîner le modèle de régression logistique\n",
    "model = LogisticRegression()\n",
    "model.fit(X_train, y_train)\n",
    "\n",
    "# Faire des prédictions\n",
    "y_pred = model.predict(X_test)\n",
    "\n",
    "# Évaluation du modèle\n",
    "accuracy = accuracy_score(y_test, y_pred)\n",
    "recall = recall_score(y_test, y_pred)\n",
    "f1 = f1_score(y_test, y_pred)\n",
    "\n",
    "print(f\"Précision (accuracy) : {accuracy:.2f}\")\n",
    "print(f\"Rappel (recall) : {recall:.2f}\")\n",
    "print(f\"Score F1 : {f1:.2f}\")\n",
    "\n",
    "# Afficher la matrice de confusion et le rapport de classification\n",
    "print(\"Matrice de confusion :\")\n",
    "print(confusion_matrix(y_test, y_pred))\n",
    "print(\"Rapport de classification :\")\n",
    "print(classification_report(y_test, y_pred))"
   ]
  },
  {
   "cell_type": "code",
   "execution_count": 30,
   "metadata": {},
   "outputs": [
    {
     "name": "stdout",
     "output_type": "stream",
     "text": [
      "Précision (accuracy) : 0.44\n",
      "Rappel (recall) : 0.50\n",
      "Score F1 : 0.53\n",
      "Matrice de confusion :\n",
      "[[2 4]\n",
      " [5 5]]\n",
      "Rapport de classification :\n",
      "              precision    recall  f1-score   support\n",
      "\n",
      "       False       0.29      0.33      0.31         6\n",
      "        True       0.56      0.50      0.53        10\n",
      "\n",
      "    accuracy                           0.44        16\n",
      "   macro avg       0.42      0.42      0.42        16\n",
      "weighted avg       0.45      0.44      0.44        16\n",
      "\n"
     ]
    }
   ],
   "source": [
    "# Diviser les données\n",
    "X_train, X_test, y_train, y_test = train_test_split(X, y, test_size=0.2, random_state=42)\n",
    "\n",
    "# Créer et entraîner le modèle KNN\n",
    "k = 5  # Nombre de voisins\n",
    "model = KNeighborsClassifier(n_neighbors=k)\n",
    "model.fit(X_train, y_train)\n",
    "\n",
    "# Faire des prédictions\n",
    "y_pred = model.predict(X_test)\n",
    "\n",
    "# Évaluation du modèle\n",
    "accuracy = accuracy_score(y_test, y_pred)\n",
    "recall = recall_score(y_test, y_pred)\n",
    "f1 = f1_score(y_test, y_pred)\n",
    "\n",
    "print(f\"Précision (accuracy) : {accuracy:.2f}\")\n",
    "print(f\"Rappel (recall) : {recall:.2f}\")\n",
    "print(f\"Score F1 : {f1:.2f}\")\n",
    "\n",
    "# Afficher la matrice de confusion et le rapport de classification\n",
    "print(\"Matrice de confusion :\")\n",
    "print(confusion_matrix(y_test, y_pred))\n",
    "print(\"Rapport de classification :\")\n",
    "print(classification_report(y_test, y_pred))\n"
   ]
  },
  {
   "cell_type": "markdown",
   "metadata": {},
   "source": [
    "Bonus: Comparer les 2 méthodes de classification KNN et logistique précédente pour voir celle qui prédits le mieux: (accuracy, recall puis F1 Score)"
   ]
  },
  {
   "cell_type": "code",
   "execution_count": 31,
   "metadata": {},
   "outputs": [
    {
     "name": "stdout",
     "output_type": "stream",
     "text": [
      "Régression Logistique :\n",
      "Précision (accuracy) : 0.50\n",
      "Rappel (recall) : 0.50\n",
      "Score F1 : 0.56\n",
      "Matrice de confusion :\n",
      "[[3 3]\n",
      " [5 5]]\n",
      "Rapport de classification :\n",
      "              precision    recall  f1-score   support\n",
      "\n",
      "       False       0.38      0.50      0.43         6\n",
      "        True       0.62      0.50      0.56        10\n",
      "\n",
      "    accuracy                           0.50        16\n",
      "   macro avg       0.50      0.50      0.49        16\n",
      "weighted avg       0.53      0.50      0.51        16\n",
      "\n",
      "KNN :\n",
      "Précision (accuracy) : 0.56\n",
      "Rappel (recall) : 0.33\n",
      "Score F1 : 0.36\n",
      "Matrice de confusion :\n",
      "[[7 3]\n",
      " [4 2]]\n",
      "Rapport de classification :\n",
      "              precision    recall  f1-score   support\n",
      "\n",
      "       False       0.64      0.70      0.67        10\n",
      "        True       0.40      0.33      0.36         6\n",
      "\n",
      "    accuracy                           0.56        16\n",
      "   macro avg       0.52      0.52      0.52        16\n",
      "weighted avg       0.55      0.56      0.55        16\n",
      "\n"
     ]
    }
   ],
   "source": [
    "# Préparer les variables indépendantes et dépendantes\n",
    "X = df[['price_category_encoded', 'ville_encoded']]\n",
    "y_garage = df['garage']  # Variable à prédire pour régression logistique\n",
    "y_balcon = df['balcon']  # Variable à prédire pour KNN\n",
    "\n",
    "# Diviser les données\n",
    "X_train, X_test, y_train_garage, y_test_garage = train_test_split(X, y_garage, test_size=0.2, random_state=42)\n",
    "X_train, X_test, y_train_balcon, y_test_balcon = train_test_split(X, y_balcon, test_size=0.2, random_state=42)\n",
    "\n",
    "# 1. Régression Logistique\n",
    "logistic_model = LogisticRegression()\n",
    "logistic_model.fit(X_train, y_train_garage)\n",
    "y_pred_logistic = logistic_model.predict(X_test)\n",
    "\n",
    "accuracy_logistic = accuracy_score(y_test_garage, y_pred_logistic)\n",
    "recall_logistic = recall_score(y_test_garage, y_pred_logistic)\n",
    "f1_logistic = f1_score(y_test_garage, y_pred_logistic)\n",
    "\n",
    "print(\"Régression Logistique :\")\n",
    "print(f\"Précision (accuracy) : {accuracy_logistic:.2f}\")\n",
    "print(f\"Rappel (recall) : {recall_logistic:.2f}\")\n",
    "print(f\"Score F1 : {f1_logistic:.2f}\")\n",
    "print(\"Matrice de confusion :\")\n",
    "print(confusion_matrix(y_test_garage, y_pred_logistic))\n",
    "print(\"Rapport de classification :\")\n",
    "print(classification_report(y_test_garage, y_pred_logistic))\n",
    "\n",
    "# 2. KNN\n",
    "k = 5  # Nombre de voisins\n",
    "knn_model = KNeighborsClassifier(n_neighbors=k)\n",
    "knn_model.fit(X_train, y_train_balcon)\n",
    "y_pred_knn = knn_model.predict(X_test)\n",
    "\n",
    "accuracy_knn = accuracy_score(y_test_balcon, y_pred_knn)\n",
    "recall_knn = recall_score(y_test_balcon, y_pred_knn)\n",
    "f1_knn = f1_score(y_test_balcon, y_pred_knn)\n",
    "\n",
    "print(\"KNN :\")\n",
    "print(f\"Précision (accuracy) : {accuracy_knn:.2f}\")\n",
    "print(f\"Rappel (recall) : {recall_knn:.2f}\")\n",
    "print(f\"Score F1 : {f1_knn:.2f}\")\n",
    "print(\"Matrice de confusion :\")\n",
    "print(confusion_matrix(y_test_balcon, y_pred_knn))\n",
    "print(\"Rapport de classification :\")\n",
    "print(classification_report(y_test_balcon, y_pred_knn))\n"
   ]
  },
  {
   "cell_type": "markdown",
   "metadata": {},
   "source": [
    "Bonus ULTIMATE: Créer une classification avec Random Forest (new algo) pour savoir si il y a un balcon en fonction du prix et de la ville"
   ]
  },
  {
   "cell_type": "code",
   "execution_count": 8,
   "metadata": {},
   "outputs": [
    {
     "name": "stdout",
     "output_type": "stream",
     "text": [
      "Random Forest :\n",
      "Précision (accuracy) : 0.44\n",
      "Rappel (recall) : 0.50\n",
      "Score F1 : 0.40\n",
      "Matrice de confusion :\n",
      "[[4 6]\n",
      " [3 3]]\n",
      "Rapport de classification :\n",
      "              precision    recall  f1-score   support\n",
      "\n",
      "       False       0.57      0.40      0.47        10\n",
      "        True       0.33      0.50      0.40         6\n",
      "\n",
      "    accuracy                           0.44        16\n",
      "   macro avg       0.45      0.45      0.44        16\n",
      "weighted avg       0.48      0.44      0.44        16\n",
      "\n"
     ]
    }
   ],
   "source": [
    "from sklearn.ensemble import RandomForestClassifier\n",
    "\n",
    "# Préparer les variables indépendantes (features) et la variable dépendante (target)\n",
    "X = df[['price_category_encoded', 'ville_encoded']]\n",
    "y = df['balcon']  # Variable à prédire (balcon)\n",
    "\n",
    "# Diviser les données en ensembles d'entraînement et de test\n",
    "X_train, X_test, y_train, y_test = train_test_split(X, y, test_size=0.2, random_state=42)\n",
    "\n",
    "# Créer et entraîner le modèle Random Forest\n",
    "rf_model = RandomForestClassifier(n_estimators=100, random_state=42)\n",
    "rf_model.fit(X_train, y_train)\n",
    "\n",
    "# Faire des prédictions\n",
    "y_pred = rf_model.predict(X_test)\n",
    "\n",
    "# Évaluer le modèle\n",
    "accuracy = accuracy_score(y_test, y_pred)\n",
    "recall = recall_score(y_test, y_pred)\n",
    "f1 = f1_score(y_test, y_pred)\n",
    "\n",
    "print(\"Random Forest :\")\n",
    "print(f\"Précision (accuracy) : {accuracy:.2f}\")\n",
    "print(f\"Rappel (recall) : {recall:.2f}\")\n",
    "print(f\"Score F1 : {f1:.2f}\")\n",
    "\n",
    "# Afficher la matrice de confusion et le rapport de classification\n",
    "print(\"Matrice de confusion :\")\n",
    "print(confusion_matrix(y_test, y_pred))\n",
    "print(\"Rapport de classification :\")\n",
    "print(classification_report(y_test, y_pred))"
   ]
  }
 ],
 "metadata": {
  "kernelspec": {
   "display_name": "ml",
   "language": "python",
   "name": "python3"
  },
  "language_info": {
   "codemirror_mode": {
    "name": "ipython",
    "version": 3
   },
   "file_extension": ".py",
   "mimetype": "text/x-python",
   "name": "python",
   "nbconvert_exporter": "python",
   "pygments_lexer": "ipython3",
   "version": "3.12.4"
  }
 },
 "nbformat": 4,
 "nbformat_minor": 2
}
